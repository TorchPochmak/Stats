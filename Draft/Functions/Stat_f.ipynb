{
 "cells": [
  {
   "cell_type": "code",
   "execution_count": 19,
   "metadata": {},
   "outputs": [],
   "source": [
    "import numpy as np\n",
    "import scipy as sp\n",
    "import seaborn as sns \n",
    "import matplotlib.pyplot as plt\n",
    "import scipy.stats as sps\n",
    "import pandas as pd\n",
    "import ipywidgets as widgets\n",
    "\n",
    "import random\n",
    "import math\n",
    "\n",
    "import itertools"
   ]
  },
  {
   "cell_type": "code",
   "execution_count": 45,
   "metadata": {},
   "outputs": [
    {
     "data": {
      "text/plain": [
       "7.475061418468516"
      ]
     },
     "execution_count": 45,
     "metadata": {},
     "output_type": "execute_result"
    }
   ],
   "source": [
    "#Задача 1\n",
    "def sum_x_to_y(n, cnt):\n",
    "    if (cnt == 1):\n",
    "        return n\n",
    "    return (n + (n + cnt - 1)) * cnt / 2\n",
    "\n",
    "def get_rank_list(lst):\n",
    "    result = []\n",
    "    l = sorted(lst)\n",
    "    mp = dict()\n",
    "    for i in range(0, len(lst)):\n",
    "        if (lst[i] in mp.keys()):\n",
    "            mp[lst[i]] += 1\n",
    "        else:\n",
    "            mp[lst[i]] = 1\n",
    "    for i in range(0, len(lst)):\n",
    "        index = l.index(lst[i]) + 1\n",
    "        cnt = mp[l[index - 1]]\n",
    "        result.append(sum_x_to_y(index, cnt) / cnt)\n",
    "    return result\n",
    "\n",
    "\n",
    "        \n",
    "\n",
    "a = [4, 18, 9, 9, -1, 9, 25, 18, 9]\n",
    "ans1 = get_rank_list(a) #вопрос 1\n",
    "ans21 = np.median(a) #вопрос 2\n",
    "ans22 = np.quantile(a, 0.25) #первая квартиль\n",
    "ans23 = np.quantile(a, 0.75) #третья квартиль\n",
    "#границы типичных значений [q1 - 1.5(max - min); q3 + 1.5(max - min)]\n",
    "#границы нетипичных значений [q1 - 3(max - min); q3 + 3(max - min)]\n",
    "(ans31, ans32) = (ans22 - 1.5 * (ans23 - ans22), ans23 + 1.5 * (ans23 - ans22))\n",
    "ans32\n",
    "\n",
    "bins4 = np.arange(-5, 35, 5)\n",
    "#plt.hist(a, bins=bins4) # вопрос 4\n",
    "#plt.boxplot(a)\n",
    "ans7 = np.mean(a)\n",
    "ans8 = np.var(a, ddof = 1) #несмещенная выборочная дисперсия\n",
    "ans9 = math.sqrt(ans8) #выборочное стнадратное отклонение\n",
    "\n",
    "ans10 = np.var(a)\n",
    "math.sqrt(ans10)\n"
   ]
  },
  {
   "cell_type": "code",
   "execution_count": null,
   "metadata": {},
   "outputs": [],
   "source": []
  }
 ],
 "metadata": {
  "kernelspec": {
   "display_name": "Python 3",
   "language": "python",
   "name": "python3"
  },
  "language_info": {
   "codemirror_mode": {
    "name": "ipython",
    "version": 3
   },
   "file_extension": ".py",
   "mimetype": "text/x-python",
   "name": "python",
   "nbconvert_exporter": "python",
   "pygments_lexer": "ipython3",
   "version": "3.11.5"
  }
 },
 "nbformat": 4,
 "nbformat_minor": 2
}
