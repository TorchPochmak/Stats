{
 "cells": [
  {
   "cell_type": "code",
   "execution_count": 1,
   "metadata": {},
   "outputs": [],
   "source": [
    "import numpy as np\n",
    "import pandas as pd\n",
    "\n"
   ]
  },
  {
   "cell_type": "code",
   "execution_count": 2,
   "metadata": {},
   "outputs": [],
   "source": [
    "#?Cпособ задать np.array\n",
    "#numpy \"ndarray\" (also has alias array, numpy.array)\n",
    "a = np.arange(5) # [0 1 2 3 4]\n",
    "a = np.zeros(5) # [0 0 0 0 0], float64\n",
    "a = np.ones(5) # [1 1 1 1 1], float64"
   ]
  },
  {
   "cell_type": "code",
   "execution_count": 3,
   "metadata": {},
   "outputs": [
    {
     "name": "stdout",
     "output_type": "stream",
     "text": [
      "{1, 2, 3, 4, 5}\n",
      "[1, 2, 3, 4, 5]\n",
      "(1, 2, 3, 4, 5)\n"
     ]
    }
   ],
   "source": [
    "#?Конвертация\n",
    "std_a = [1,2,3,4,5]\n",
    "a = np.array(std_a) #convert to np.ndarray\n",
    "set_a = set(a)\n",
    "lst_a = list(a)\n",
    "tuple_a = tuple(a)\n",
    "print(set_a)\n",
    "print(lst_a)\n",
    "print(tuple_a)"
   ]
  },
  {
   "cell_type": "markdown",
   "metadata": {},
   "source": [
    "ATTRIBUTES"
   ]
  },
  {
   "cell_type": "code",
   "execution_count": 4,
   "metadata": {},
   "outputs": [],
   "source": [
    "a = np.arange(8).reshape(2,2,2)\n",
    "a1 = a.T #? транспонирование\n",
    "a2 = a.base #? в линейном виде в памяти\n",
    "a3 = a.data #? указатель на память\n",
    "a4 = a.dtype #? тип элементов +ы\n",
    "# a.flags.writeable #? всякие ненужные флаги\n",
    "a5 = a.flat[5] #? хранит линейный вид в памяти\n",
    "\n",
    "z = np.array([1+2j, 2+5j])\n",
    "z6 = z.imag #? [2., 5.] or np.imag(z)\n",
    "z7 = z.real #? [1., 2.] or np.real(z)\n",
    "\n",
    "a8 = a.size #? 2 * 2 * 2 or np.size(a8)\n",
    "a9 = a.itemsize #?size in bytes of one element\n",
    "ex = np.array([[1,2,3], [1,2,3], [1,2,3]])\n",
    "ex8 = ex.size # 9\n",
    "ex9 = ex.itemsize # 4\n",
    "\n",
    "a10 = a.ndim #? dimensions, a.ndim == 3, ex.ndim == 2\n",
    "a11 = a.shape #? shape, returns a tuple (2, 2, 2)\n",
    "\n",
    "y = np.reshape(np.arange(2*3*4), (2,3,4))\n",
    "y12 = y.strides #? количество байтов, которое нужно для достижения соотв. \n",
    "#? элемента в другом измерении, т.е.\n",
    "# (3*4*size(int), 4*size(int), 1*size(int)) => (48, 16, 4)\n",
    "# a.ctypes.data - кринж какой-то"
   ]
  },
  {
   "cell_type": "markdown",
   "metadata": {},
   "source": [
    "Half-useless"
   ]
  },
  {
   "cell_type": "code",
   "execution_count": 5,
   "metadata": {},
   "outputs": [
    {
     "ename": "TypeError",
     "evalue": "Field elements must be 2- or 3-tuples, got '2'",
     "output_type": "error",
     "traceback": [
      "\u001b[1;31m---------------------------------------------------------------------------\u001b[0m",
      "\u001b[1;31mTypeError\u001b[0m                                 Traceback (most recent call last)",
      "Cell \u001b[1;32mIn[5], line 19\u001b[0m\n\u001b[0;32m     16\u001b[0m argmx \u001b[38;5;241m=\u001b[39m np\u001b[38;5;241m.\u001b[39margmax(a, axis\u001b[38;5;241m=\u001b[39m\u001b[38;5;241m1\u001b[39m) \u001b[38;5;66;03m# array([2, 2])\u001b[39;00m\n\u001b[0;32m     17\u001b[0m \u001b[38;5;66;03m#? list of max indexes [indexofmax(10,11,12), indexofmax(13, 14, 15)]\u001b[39;00m\n\u001b[1;32m---> 19\u001b[0m a \u001b[38;5;241m=\u001b[39m \u001b[43mnp\u001b[49m\u001b[38;5;241;43m.\u001b[39;49m\u001b[43marray\u001b[49m\u001b[43m(\u001b[49m\u001b[43m[\u001b[49m\u001b[38;5;241;43m0\u001b[39;49m\u001b[43m,\u001b[49m\u001b[43m \u001b[49m\u001b[38;5;241;43m3\u001b[39;49m\u001b[43m]\u001b[49m\u001b[43m,\u001b[49m\u001b[43m \u001b[49m\u001b[43m[\u001b[49m\u001b[38;5;241;43m2\u001b[39;49m\u001b[43m,\u001b[49m\u001b[43m \u001b[49m\u001b[38;5;241;43m4\u001b[39;49m\u001b[43m]\u001b[49m\u001b[43m)\u001b[49m\n\u001b[0;32m     20\u001b[0m np\u001b[38;5;241m.\u001b[39msort(a)\n\u001b[0;32m     21\u001b[0m a\n",
      "\u001b[1;31mTypeError\u001b[0m: Field elements must be 2- or 3-tuples, got '2'"
     ]
    }
   ],
   "source": [
    "#np.argmax (индекс максимальногоо)\n",
    "#np.argmin (индекс минимального)\n",
    "#np.amax (максимальный)\n",
    "#np.amin (минимальный)\n",
    "#? первое появление\n",
    "\n",
    "a = np.arange(6).reshape(2,3) + 10\n",
    "#array([[10, 11, 12],\n",
    "#       [13, 14, 15]])\n",
    "argmx = np.argmax(a) # 5, #? не особо понятно\n",
    "index = np.unravel_index(argmx, a.shape) # (1, 2)\n",
    "max_el = a[index] # 15\n",
    "\n",
    "argmx = np.argmax(a, axis=0) # array([1, 1, 1]) \n",
    "#? list of max indexes [indexofmax(10,13), indexofmax(11, 14), indexofmax(12, 15)]\n",
    "argmx = np.argmax(a, axis=1) # array([2, 2])\n",
    "#? list of max indexes [indexofmax(10,11,12), indexofmax(13, 14, 15)]\n",
    "\n",
    "a = np.array([0, 3], [2, 4])\n",
    "np.sort(a)\n",
    "a"
   ]
  },
  {
   "cell_type": "markdown",
   "metadata": {},
   "source": [
    "Some useless shit"
   ]
  },
  {
   "cell_type": "code",
   "execution_count": null,
   "metadata": {},
   "outputs": [
    {
     "name": "stdout",
     "output_type": "stream",
     "text": [
      "False\n",
      "True\n",
      "[0 1 2 1 2 5 2 3 3 6 7 7 7 7]\n",
      "[13, 4, 7, 1, 9, 5, 11, 12, 8, 10, 0, 3, 2, 6]\n"
     ]
    }
   ],
   "source": [
    "#?Useless\n",
    "a = np.array([1,2,3,4,1,0]) #Проверка на (exist)False/0\n",
    "print(np.ndarray.all(a)) #False\n",
    "#--------\n",
    "a = np.array([1,2,3,4,1,0]) #Проверка на (exist)True/0\n",
    "print(np.ndarray.any(a)) #True\n",
    "#--------\n",
    "\n",
    "a = np.array([7, 1, 7, 7, 1, 5, 7, 2, 3, 2, 6, 2, 3, 0])\n",
    "p = np.partition(a,4) # [0, 1, 2, 1], [2], [5, 2, 3, 3, 6, 7, 7, 7, 7]\n",
    "#делит массив на те, что меньше 4 элемента(в sorted) и больше\n",
    "#O(n) \n",
    "argp = np.argpartition(a, 4) #индексы каждого элемента в partition\n",
    "\n"
   ]
  },
  {
   "cell_type": "code",
   "execution_count": null,
   "metadata": {},
   "outputs": [],
   "source": []
  }
 ],
 "metadata": {
  "kernelspec": {
   "display_name": "Python 3",
   "language": "python",
   "name": "python3"
  },
  "language_info": {
   "codemirror_mode": {
    "name": "ipython",
    "version": 3
   },
   "file_extension": ".py",
   "mimetype": "text/x-python",
   "name": "python",
   "nbconvert_exporter": "python",
   "pygments_lexer": "ipython3",
   "version": "3.11.5"
  }
 },
 "nbformat": 4,
 "nbformat_minor": 2
}
