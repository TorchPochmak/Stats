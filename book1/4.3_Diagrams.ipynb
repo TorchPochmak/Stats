{
 "cells": [
  {
   "cell_type": "code",
   "execution_count": 2,
   "metadata": {},
   "outputs": [],
   "source": [
    "import numpy as np\n",
    "import scipy as sp\n",
    "import seaborn as sns \n",
    "import matplotlib.pyplot as plt\n",
    "import scipy.stats as sps\n",
    "import pandas as pd\n",
    "import ipywidgets as widgets\n",
    "\n",
    "import random\n",
    "import math\n",
    "\n",
    "import itertools\n",
    "\n"
   ]
  },
  {
   "cell_type": "code",
   "execution_count": 3,
   "metadata": {},
   "outputs": [
    {
     "data": {
      "text/plain": [
       "<BarContainer object of 7 artists>"
      ]
     },
     "execution_count": 3,
     "metadata": {},
     "output_type": "execute_result"
    }
   ],
   "source": [
    "#для визуализации категориальных используют диаграммы\n",
    "#?plt.bar() и plt.barh() вертиклаьная и горизонтальная \n",
    "groups = [f'P{i}' for i in range(7)]\n",
    "counts = np.random.randint(0,10, len(groups))\n",
    "fg = plt.figure(figsize=(10,5))\n",
    "plt.subplot(121)\n",
    "plt.bar(groups, counts)\n",
    "plt.subplot(122)\n",
    "plt.barh(groups[::-1], counts[::-1]) #чтобы P0 был сверху, косметика"
   ]
  },
  {
   "cell_type": "code",
   "execution_count": 4,
   "metadata": {},
   "outputs": [
    {
     "data": {
      "text/plain": [
       "<BarContainer object of 8 artists>"
      ]
     },
     "execution_count": 4,
     "metadata": {},
     "output_type": "execute_result"
    }
   ],
   "source": [
    "import matplotlib.colors as mcolors\n",
    "bc = list(mcolors.BASE_COLORS)\n",
    "\n",
    "groups = [f'P{i}' for i in range(len(bc))]\n",
    "counts = np.random.randint(2,len(bc), len(groups))\n",
    "width = counts * 0.1\n",
    "colors = [bc[i] for i in range(len(counts))]\n",
    "plt.bar(groups, counts, width=width, alpha=0.6, bottom=2, color=colors, edgecolor='c', linewidth=2)"
   ]
  },
  {
   "cell_type": "code",
   "execution_count": 5,
   "metadata": {},
   "outputs": [
    {
     "data": {
      "text/plain": [
       "<matplotlib.legend.Legend at 0x17122a9f410>"
      ]
     },
     "execution_count": 5,
     "metadata": {},
     "output_type": "execute_result"
    }
   ],
   "source": [
    "#групповые столбчатые диаграммы\n",
    "cat_par = [f'P{i}' for i in range(5)]\n",
    "g1 = [10,2,34, 12,27]\n",
    "g2 = [17, 15, 25, 21, 26]\n",
    "width = 0.3\n",
    "x = np.arange(len(cat_par))\n",
    "fig, ax = plt.subplots()\n",
    "rects1 = ax.bar(x - width/2, g1, width, label='g1')\n",
    "rects2 = ax.bar(x + width/2, g2, width, label='g2')\n",
    "ax.set_title('Пример групповой диаграммы')\n",
    "ax.set_xticks(x)\n",
    "ax.set_xticklabels(cat_par)\n",
    "ax.legend()"
   ]
  },
  {
   "cell_type": "code",
   "execution_count": 7,
   "metadata": {},
   "outputs": [
    {
     "name": "stdout",
     "output_type": "stream",
     "text": [
      "Warning: Cannot change to a different GUI toolkit: widget. Using qt instead.\n"
     ]
    },
    {
     "data": {
      "text/plain": [
       "<matplotlib.collections.PolyCollection at 0x171263e3290>"
      ]
     },
     "execution_count": 7,
     "metadata": {},
     "output_type": "execute_result"
    }
   ],
   "source": [
    "%matplotlib widget\n",
    "n = 100\n",
    "names = [f'P{i}' for i in range(n)]\n",
    "g1 = [np.random.randint(-100,100) for i in range(n)]\n",
    "error = np.array([[np.random.randint(50, 100), np.random.randint(50,100)] for i in range(len(names))]).T\n",
    "fg, ax = plt.subplots(2,1, figsize=(100,100))\n",
    "plt.subplot(111)\n",
    "plt.bar(names, g1, yerr=error, ecolor='r', alpha=0.5, edgecolor='b', linewidth=1, width=0.5)\n",
    "ln1 = error[1] + g1 # верхнее\n",
    "ln2 = g1 - error[0]\n",
    "plt.plot(names, ln1)\n",
    "plt.plot(names, ln2)\n",
    "plt.fill_between(names, ln1, y2=ln2, where=(ln2<ln1), color='g', alpha=0.1)\n"
   ]
  }
 ],
 "metadata": {
  "kernelspec": {
   "display_name": "Python 3",
   "language": "python",
   "name": "python3"
  },
  "language_info": {
   "codemirror_mode": {
    "name": "ipython",
    "version": 3
   },
   "file_extension": ".py",
   "mimetype": "text/x-python",
   "name": "python",
   "nbconvert_exporter": "python",
   "pygments_lexer": "ipython3",
   "version": "3.11.5"
  }
 },
 "nbformat": 4,
 "nbformat_minor": 2
}
